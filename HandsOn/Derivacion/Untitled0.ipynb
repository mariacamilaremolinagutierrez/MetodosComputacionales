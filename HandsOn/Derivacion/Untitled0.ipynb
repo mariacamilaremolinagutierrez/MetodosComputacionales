{
 "metadata": {
  "name": "",
  "signature": "sha256:6340b263aab8080275ce75da4baea26a259d9e411c24a7cb20f26e3e56d37e2d"
 },
 "nbformat": 3,
 "nbformat_minor": 0,
 "worksheets": []
}