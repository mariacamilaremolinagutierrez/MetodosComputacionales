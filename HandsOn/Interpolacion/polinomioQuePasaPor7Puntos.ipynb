{
 "metadata": {
  "name": "",
  "signature": "sha256:34f611b55a44f02fa02d9052ee904b3e4c1b167ec3d00960453e4f187b6bc4e8"
 },
 "nbformat": 3,
 "nbformat_minor": 0,
 "worksheets": [
  {
   "cells": [
    {
     "cell_type": "code",
     "collapsed": false,
     "input": [
      "%pylab inline"
     ],
     "language": "python",
     "metadata": {},
     "outputs": [
      {
       "output_type": "stream",
       "stream": "stdout",
       "text": [
        "Populating the interactive namespace from numpy and matplotlib\n"
       ]
      },
      {
       "output_type": "stream",
       "stream": "stderr",
       "text": [
        "WARNING: pylab import has clobbered these variables: ['tri', 'axes', 'legend', 'stackplot', 'figure', 'quiver', 'streamplot', 'rc', 'text', 'colors', 'is_string_like', 'contour', 'axis', 'colorbar', 'test', 'rcdefaults', 'table']\n",
        "`%pylab --no-import-all` prevents importing * from pylab and numpy\n"
       ]
      }
     ],
     "prompt_number": 6
    },
    {
     "cell_type": "code",
     "collapsed": false,
     "input": [
      "x_in = array([1.0,2.0,4.0,5.0,6.0,7.0,8.0])\n",
      "y_in = array([3.0,-2.0,2.0,4.0,1.0,2.0,3.0])"
     ],
     "language": "python",
     "metadata": {},
     "outputs": [],
     "prompt_number": 2
    },
    {
     "cell_type": "code",
     "collapsed": false,
     "input": [
      "scatter(x_in, y_in)"
     ],
     "language": "python",
     "metadata": {},
     "outputs": [
      {
       "metadata": {},
       "output_type": "pyout",
       "prompt_number": 7,
       "text": [
        "<matplotlib.collections.PathCollection at 0x3d8d290>"
       ]
      },
      {
       "metadata": {},
       "output_type": "display_data",
       "png": "[encoded data removed]",
       "text": [
        "<matplotlib.figure.Figure at 0x3505650>"
       ]
      }
     ],
     "prompt_number": 7
    },
    {
     "cell_type": "code",
     "collapsed": false,
     "input": [
      "def polinomio(x):\n",
      "    suma=0\n",
      "    for i in range(7):\n",
      "        x_i=x_in[i]\n",
      "        r=1\n",
      "        for j in range(7):\n",
      "            x_j=x_in[j]\n",
      "            if(x_i!=x_j):\n",
      "                r=r*(x-x_j)/(x_i-x_j)\n",
      "        suma+=r*y_in[i]\n",
      "    \n",
      "    return suma"
     ],
     "language": "python",
     "metadata": {},
     "outputs": [],
     "prompt_number": 12
    },
    {
     "cell_type": "code",
     "collapsed": false,
     "input": [
      "puntos=linspace(0,9,500)\n",
      "valores=polinomio(puntos)"
     ],
     "language": "python",
     "metadata": {},
     "outputs": [],
     "prompt_number": 17
    },
    {
     "cell_type": "code",
     "collapsed": false,
     "input": [
      "scatter(puntos,valores, color='blue')\n",
      "scatter(x_in,y_in, color='magenta')"
     ],
     "language": "python",
     "metadata": {},
     "outputs": [
      {
       "metadata": {},
       "output_type": "pyout",
       "prompt_number": 20,
       "text": [
        "<matplotlib.collections.PathCollection at 0x4b9be10>"
       ]
      },
      {
       "metadata": {},
       "output_type": "display_data",
       "png": "[encoded data removed]",
       "text": [
        "<matplotlib.figure.Figure at 0x4b9bf50>"
       ]
      }
     ],
     "prompt_number": 20
    },
    {
     "cell_type": "code",
     "collapsed": false,
     "input": [],
     "language": "python",
     "metadata": {},
     "outputs": []
    }
   ],
   "metadata": {}
  }
 ]
}