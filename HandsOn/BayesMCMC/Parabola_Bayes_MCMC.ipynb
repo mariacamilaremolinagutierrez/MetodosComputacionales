{
 "metadata": {
  "name": "",
  "signature": "sha256:bf544ab00c13d3f2fdacc09a92995aa31188aa13d5ff2f24b4bf6ef0fb69c5eb"
 },
 "nbformat": 3,
 "nbformat_minor": 0,
 "worksheets": [
  {
   "cells": [
    {
     "cell_type": "code",
     "collapsed": false,
     "input": [
      "%pylab inline"
     ],
     "language": "python",
     "metadata": {},
     "outputs": [
      {
       "output_type": "stream",
       "stream": "stdout",
       "text": [
        "Populating the interactive namespace from numpy and matplotlib\n"
       ]
      }
     ],
     "prompt_number": 1
    },
    {
     "cell_type": "code",
     "collapsed": false,
     "input": [
      "datos=loadtxt(\"./movimiento.dat\")\n",
      "ts=datos[:,0]\n",
      "ys=datos[:,1]\n",
      "scatter(ts,ys)"
     ],
     "language": "python",
     "metadata": {},
     "outputs": [
      {
       "metadata": {},
       "output_type": "pyout",
       "prompt_number": 5,
       "text": [
        "<matplotlib.collections.PathCollection at 0x3054c90>"
       ]
      },
      {
       "metadata": {},
       "output_type": "display_data",
       "png": "[encoded data removed]",
       "text": [
        "<matplotlib.figure.Figure at 0x2f3e450>"
       ]
      }
     ],
     "prompt_number": 5
    },
    {
     "cell_type": "code",
     "collapsed": false,
     "input": [
      "#Funciones\n",
      "\n",
      "def likelihood(y_observada, y_modelo):\n",
      "    chi_cuadrado = sum((y_observada-y_modelo)**2)/2\n",
      "    return exp(-chi_cuadrado)\n",
      "\n",
      "# y= v*(t) + b*(t**2)\n",
      "\n",
      "def modelo(t_observado, v, b):\n",
      "    return v_0*t + b*(t**2)"
     ],
     "language": "python",
     "metadata": {},
     "outputs": [],
     "prompt_number": 6
    },
    {
     "cell_type": "code",
     "collapsed": false,
     "input": [
      "num_iter = 200000 \n",
      "sigma=0.5\n",
      "\n",
      "vs_camino = zeros(num_iter)\n",
      "bs_camino = zeros(num_iter)\n",
      "ls_camino = zeros(num_iter)"
     ],
     "language": "python",
     "metadata": {},
     "outputs": [],
     "prompt_number": 8
    },
    {
     "cell_type": "code",
     "collapsed": false,
     "input": [
      "#MCMC\n",
      "\n",
      "v_actual=random.random()\n",
      "b_actual=random.random()\n",
      "\n",
      "vs_camino[0] = v_actual\n",
      "bs_camino[0] = b_actual\n",
      "\n",
      "y_modelo_actual=modelo(ts, v_actual, b_actual)\n",
      "l_actual=likelihood(ys, y_modelo_actual)\n",
      "\n",
      "ls_camino[0]=l_actual\n",
      "\n",
      "for i in range(1,num_iter):\n",
      "    \n",
      "    v_prueba=random.normal(v_actual, sigma)\n",
      "    b_prueba=random.normal(b_actual, sigma)\n",
      "\n",
      "    y_modelo_actual=modelo(ts, v_actual, b_actual)\n",
      "    l_actual=likelihood(ys, y_modelo_actual)\n",
      "    \n",
      "    \n",
      "    \n",
      "    l_prueba=random.normal(x_actual,sigma)\n",
      "    \n",
      "    alfa=f(x_prueba)/f(x_actual)\n",
      "    \n",
      "    if(alfa>=1):\n",
      "        x_actual=x_prueba\n",
      "    else:\n",
      "        beta = random.random()\n",
      "        if(alfa>=beta):\n",
      "            x_actual=x_prueba\n",
      "            \n",
      "    xs_camino[i] = x_actual"
     ],
     "language": "python",
     "metadata": {},
     "outputs": [],
     "prompt_number": 7
    },
    {
     "cell_type": "code",
     "collapsed": false,
     "input": [],
     "language": "python",
     "metadata": {},
     "outputs": []
    }
   ],
   "metadata": {}
  }
 ]
}