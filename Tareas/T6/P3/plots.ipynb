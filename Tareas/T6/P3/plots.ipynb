{
 "metadata": {
  "name": "",
  "signature": "sha256:f807fe62a34fd8767afad5da39401dfc8b0d412cd8534feabd571317d01fe5ff"
 },
 "nbformat": 3,
 "nbformat_minor": 0,
 "worksheets": [
  {
   "cells": [
    {
     "cell_type": "code",
     "collapsed": false,
     "input": [
      "#Importando librer\u00edas necesarias\n",
      "import matplotlib.pyplot as plt\n",
      "import numpy as np"
     ],
     "language": "python",
     "metadata": {},
     "outputs": [],
     "prompt_number": 14
    },
    {
     "cell_type": "code",
     "collapsed": false,
     "input": [
      "#Importando datos\n",
      "i = 0\n",
      "data = []\n",
      "while True:\n",
      "    try:\n",
      "        data.append(np.loadtxt(\"resultado_galaxia_\"+str(i)+\".txt\"))\n",
      "        i = i +1\n",
      "    except IOError:\n",
      "        break\n",
      "datos =[]\n",
      "for i in data:\n",
      "    i = i.T\n",
      "    datos.append(i)\n",
      "\n",
      "\n",
      "        \n",
      "        "
     ],
     "language": "python",
     "metadata": {},
     "outputs": [],
     "prompt_number": 15
    },
    {
     "cell_type": "code",
     "collapsed": false,
     "input": [
      "#Graficando datos\n",
      "j = 0\n",
      "for i in datos:\n",
      "    plt.scatter(i[1],i[2])\n",
      "    plt.title(\"Resultado galaxia momento \" + str(j))\n",
      "    plt.xlabel(\"Posicion eje x (UA)\")\n",
      "    plt.ylabel(\"Posicion eje y (UA)\")\n",
      "    plt.savefig(\"Resultado_galaxia_momento_\" + str(j) + \".pdf\")\n",
      "    j = j + 1\n",
      "    plt.show()"
     ],
     "language": "python",
     "metadata": {},
     "outputs": [],
     "prompt_number": 17
    },
    {
     "cell_type": "code",
     "collapsed": false,
     "input": [],
     "language": "python",
     "metadata": {},
     "outputs": [],
     "prompt_number": 7
    },
    {
     "cell_type": "code",
     "collapsed": false,
     "input": [],
     "language": "python",
     "metadata": {},
     "outputs": []
    }
   ],
   "metadata": {}
  }
 ]
}