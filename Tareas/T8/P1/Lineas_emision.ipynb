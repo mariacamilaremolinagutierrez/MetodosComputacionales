{
 "metadata": {
  "name": "Lineas_emision",
  "signature": "sha256:b89235b062c57a48a957ce9cd94bbbc5929b2a3a69d978805cc986aa49046452"
 },
 "nbformat": 3,
 "nbformat_minor": 0,
 "worksheets": [
  {
   "cells": [
    {
     "cell_type": "code",
     "collapsed": false,
     "input": [
      "import numpy as np\n",
      "import matplotlib.pyplot as plt\n",
      "import os"
     ],
     "language": "python",
     "metadata": {},
     "outputs": [
      {
       "output_type": "stream",
       "stream": "stdout",
       "text": [
        "\n",
        "Welcome to pylab, a matplotlib-based Python environment [backend: module://IPython.zmq.pylab.backend_inline].\n",
        "For more information, type 'help(pylab)'.\n"
       ]
      }
     ],
     "prompt_number": 1
    },
    {
     "cell_type": "code",
     "collapsed": false,
     "input": [
      "data = np.loadtxt(\"energy_counts.dat\")\n",
      "data = data.T\n",
      "#plot(data[0],data[1])"
     ],
     "language": "python",
     "metadata": {},
     "outputs": [
      {
       "output_type": "pyout",
       "prompt_number": 2,
       "text": [
        "[<matplotlib.lines.Line2D at 0x2ba8d50>]"
       ]
      },
      {
       "output_type": "display_data",
       "png": "[encoded data removed]"
      }
     ],
     "prompt_number": 2
    },
    {
     "cell_type": "code",
     "collapsed": false,
     "input": [
      "# Calcula el chi**2 de una grupo de valores calculados respecto a los valores reales\n",
      "# Modificar la likelihood y normalizarla\n",
      "def the_haki( real_y, model_y ):\n",
      "    lol = (1.0/2.0)*np.sum((real_y-model_y)**2.0)\n",
      "    return lol"
     ],
     "language": "python",
     "metadata": {},
     "outputs": [],
     "prompt_number": 3
    },
    {
     "cell_type": "code",
     "collapsed": false,
     "input": [
      "# Calcula la funcion de puntos dados los parametros y un conjunto de puntos x\n",
      "def the_model_y( x, A, B, E0, sigma, alpha ):\n",
      "    return A*(x**alpha) + B*np.exp( - ( ( ( x - E0 )/( np.sqrt(2.0) * sigma ) )**2.0 ) )"
     ],
     "language": "python",
     "metadata": {},
     "outputs": [],
     "prompt_number": 4
    },
    {
     "cell_type": "code",
     "collapsed": false,
     "input": [
      "# Cadena de Markov para encontrar el mejor modelo (con mas likelihood)\n",
      "# nami =  numero de iteraciones\n",
      "# choper = desviacion de la gausiana de los pasos aleatorios (diferente para cada uno)\n",
      "def MCMC( nami, choper, data ):\n",
      "    # Inicializa las contenedoras de las variables del fit\n",
      "    A_model = []\n",
      "    B_model = []\n",
      "    E0_model = []\n",
      "    sigma_model = []\n",
      "    alpha_model = []\n",
      "    luffylihood = []\n",
      "    \n",
      "    # Los primeros parametros del modelo --> aleatorio\n",
      "    A_model.append(guess[0])\n",
      "    B_model.append(guess[1])\n",
      "    E0_model.append(guess[2])\n",
      "    sigma_model.append(guess[3])\n",
      "    alpha_model.append(guess[4])\n",
      "    \n",
      "    # Calcula N del primer modelo aproximado\n",
      "    funcN_init = the_model_y(data[0], A_model[0], B_model[0],\n",
      "                             E0_model[0], sigma_model[0], alpha_model[0])\n",
      "    \n",
      "    # El primer chi**2\n",
      "    luffylihood.append(the_haki(data[1], funcN_init))\n",
      "    \n",
      "    for i in range(nami):\n",
      "        \n",
      "        # Prueba variando los parametros\n",
      "        A_temp = np.random.normal(A_model[i], choper[0])\n",
      "        B_temp = np.random.normal(B_model[i], choper[1])\n",
      "        E0_temp = np.random.normal(E0_model[i], choper[2])\n",
      "        sigma_temp = np.random.normal(sigma_model[i], choper[3])\n",
      "        alpha_temp = np.random.normal(alpha_model[i], np.abs(choper[4]))\n",
      "        \n",
      "        # Calcula la funcion con los nuevos parametros\n",
      "        newFunc = the_model_y(data[0], A_temp, B_temp, E0_temp, sigma_temp, alpha_temp)\n",
      "        \n",
      "        # Calcula la nueva likelihood\n",
      "        luffy = the_haki( data[1], newFunc )\n",
      "        \n",
      "        # Si la likelihood es mejor que la anterior, actualiza los parametros\n",
      "        if luffy < luffylihood[i] :\n",
      "            A_model.append(A_temp)\n",
      "            B_model.append(B_temp)\n",
      "            E0_model.append(E0_temp)\n",
      "            sigma_model.append(sigma_temp)\n",
      "            alpha_model.append(alpha_temp)\n",
      "            luffylihood.append(luffy)\n",
      "            \n",
      "        # Si no, se deja a la suerte\n",
      "        robin = np.log(np.random.random())\n",
      "        sanji = -(luffy - luffylihood[i])      \n",
      "        if robin <= sanji:\n",
      "            A_model.append(A_temp)\n",
      "            B_model.append(B_temp)\n",
      "            E0_model.append(E0_temp)\n",
      "            sigma_model.append(sigma_temp)\n",
      "            alpha_model.append(alpha_temp)\n",
      "            luffylihood.append(luffy)  \n",
      "        else:\n",
      "            A_model.append(A_model[i])\n",
      "            B_model.append(B_model[i])\n",
      "            E0_model.append(E0_model[i])\n",
      "            sigma_model.append(sigma_model[i])\n",
      "            alpha_model.append(alpha_model[i])\n",
      "            luffylihood.append(luffylihood[i])\n",
      "        \n",
      "    return np.array([luffylihood, A_model, B_model, E0_model, sigma_model, alpha_model])\n"
     ],
     "language": "python",
     "metadata": {},
     "outputs": [],
     "prompt_number": 5
    },
    {
     "cell_type": "code",
     "collapsed": false,
     "input": [
      "guess = np.array([1.0*10.0**16.0, 1000.0, 1000.0, 100.0, -4.0])\n",
      "choper =  np.array([1.0*10.0**13.0, 200.0, 500.0, 10.0, 0.00005])\n",
      "zoro = MCMC(100000, choper, data)\n",
      "# Pitico para avisarme q termino\n",
      "os.system('play --no-show-progress --null --channels 1 synth %s sine %f' % ( 1, 880.0))"
     ],
     "language": "python",
     "metadata": {},
     "outputs": [
      {
       "output_type": "pyout",
       "prompt_number": 120,
       "text": [
        "0"
       ]
      }
     ],
     "prompt_number": 120
    },
    {
     "cell_type": "code",
     "collapsed": false,
     "input": [
      "#plot(np.linspace(0,1,len(zoro[0])), zoro[0])\n"
     ],
     "language": "python",
     "metadata": {},
     "outputs": [],
     "prompt_number": 121
    },
    {
     "cell_type": "code",
     "collapsed": false,
     "input": [
      "index = np.argmin(zoro[0])\n",
      "arreglada_func = the_model_y(data[0], zoro[1][index], zoro[2][index], zoro[3][index], zoro[4][index], zoro[5][index])"
     ],
     "language": "python",
     "metadata": {},
     "outputs": [],
     "prompt_number": 122
    },
    {
     "cell_type": "code",
     "collapsed": false,
     "input": [
      "# Incertidumbres\n",
      "# Escoge valores cercanos\n",
      "indexes = np.where( (np.abs(zoro[1][index] - zoro[1] ) <= 0.1*np.abs(zoro[1])) &  (np.abs(zoro[2][index] - zoro[2] ) <= 0.1*np.abs(zoro[2]) )\n",
      "& (np.abs(zoro[3][index] - zoro[3] ) <= 0.1*np.abs(zoro[3])) & (np.abs(zoro[4][index] - zoro[4] ) <= 0.1*np.abs(zoro[4])) &\n",
      "(np.abs(zoro[5][index] - zoro[5] ) <= 0.1*np.abs(zoro[5]) ) )\n",
      "\n",
      "indexes =indexes[0]\n",
      "# Para A\n",
      "franky_A = zoro[1][indexes] - zoro[1][index]\n",
      "chis_A = zoro[0][indexes]\n",
      "sigmas_A = sqrt(((franky_A)**2)/(2*chis_A))\n",
      "print \"La incertidumbre de A es : \" + str(np.max(sigmas_A))\n",
      "\n",
      "# Para B\n",
      "franky_A = zoro[2][indexes] - zoro[2][index]\n",
      "chis_A = zoro[0][indexes]\n",
      "sigmas_A = sqrt(((franky_A)**2)/(2*chis_A))\n",
      "print \"La incertidumbre de B es : \" + str(np.max(sigmas_A))\n",
      "\n",
      "# Para E0\n",
      "franky_A = zoro[3][indexes] - zoro[3][index]\n",
      "chis_A = zoro[0][indexes]\n",
      "sigmas_A = sqrt(((franky_A)**2)/(2*chis_A))\n",
      "print \"La incertidumbre de E0 es : \" + str(np.max(sigmas_A))\n",
      "\n",
      "# Para sigma\n",
      "franky_A = zoro[4][indexes] - zoro[4][index]\n",
      "chis_A = zoro[0][indexes]\n",
      "sigmas_A = sqrt(((franky_A)**2)/(2*chis_A))\n",
      "print \"La incertidumbre de sigma es : \" + str(np.max(sigmas_A))\n",
      "\n",
      "# Para alpha\n",
      "franky_A = zoro[5][indexes] - zoro[5][index]\n",
      "chis_A = zoro[0][indexes]\n",
      "sigmas_A = sqrt(((franky_A)**2)/(2*chis_A))\n",
      "print \"La incertidumbre de alpha es : \" + str(np.max(sigmas_A))\n"
     ],
     "language": "python",
     "metadata": {},
     "outputs": [
      {
       "output_type": "stream",
       "stream": "stdout",
       "text": [
        "La incertidumbre de A es : 20953694266.0\n",
        "La incertidumbre de B es : 0.0208044733154\n",
        "La incertidumbre de E0 es : 0.0113004616405\n",
        "La incertidumbre de sigma es : 0.00220432145892\n",
        "La incertidumbre de alpha es : 1.42341329849e-07\n"
       ]
      }
     ],
     "prompt_number": 123
    },
    {
     "cell_type": "code",
     "collapsed": false,
     "input": [
      "#plot(data[0], data[1])\n",
      "print \"A = \" + str(zoro[1][index])\n",
      "print \"B = \" + str(zoro[2][index])\n",
      "print \"E0 = \" + str(zoro[3][index])\n",
      "print \"sigma = \" + str(zoro[4][index])\n",
      "print \"alpha = \" + str(zoro[5][index])\n",
      "#plot(data[0], gauss(data[0], zoro[2][index], zoro[3][index], zoro[4][index]))\n",
      "#plot(data[0], exponential(data[0], zoro[1][index], zoro[5][index]))\n",
      "fig = plt.figure()\n",
      "ax = fig.add_subplot(111)\n",
      "ax.set_xlabel(\"Energy\")\n",
      "ax.set_ylabel(\"Counts\")\n",
      "ax.set_title(\" Datos experimentales + Fit \")\n",
      "ax.plot(data[0], arreglada_func)    \n",
      "ax.plot(data[0], data[1])\n",
      "filename = \"Energy_Counts_fit\"\n",
      "plt.savefig(filename + '.pdf',format = 'pdf', transparent=True)\n",
      "#plt.close()"
     ],
     "language": "python",
     "metadata": {},
     "outputs": [
      {
       "output_type": "stream",
       "stream": "stdout",
       "text": [
        "A = 1.00038581575e+16\n",
        "B = 1921.17969266\n",
        "E0 = 1405.41514233\n",
        "sigma = 82.8664381061\n",
        "alpha = -3.99985378416\n"
       ]
      },
      {
       "output_type": "display_data",
       "png": "[encoded data removed]"
      }
     ],
     "prompt_number": 116
    },
    {
     "cell_type": "code",
     "collapsed": false,
     "input": [
      "def gauss( x, B, E0, sigma ):\n",
      "    return B*np.exp( - ( ( ( x - E0 )/( np.sqrt(2) * sigma ) )**2 ) )\n",
      "\n",
      "def exponential( x, A, alpha ):\n",
      "    return A*(x**alpha)\n"
     ],
     "language": "python",
     "metadata": {},
     "outputs": [],
     "prompt_number": 66
    },
    {
     "cell_type": "code",
     "collapsed": false,
     "input": [
      "names = [ \"lol\", \"A\", \"B\", \"E0\", \"sigma\", \"alpha\" ]"
     ],
     "language": "python",
     "metadata": {},
     "outputs": [],
     "prompt_number": 28
    },
    {
     "cell_type": "code",
     "collapsed": false,
     "input": [
      "for n in range(1,6):\n",
      "    for m in range(n+1,6):\n",
      "        npoints = 100\n",
      "        matrix = np.zeros((npoints,npoints))\n",
      "        min1 = np.min(zoro[n])\n",
      "        min2 = np.min(zoro[m])\n",
      "        max1 = np.max(zoro[n])\n",
      "        max2 = np.max(zoro[m])\n",
      "        linspace1 = np.linspace(min1,max1, npoints+1)\n",
      "        linspace2 = np.linspace(min2,max2, npoints+1)\n",
      "        \n",
      "        for i in range(npoints):\n",
      "            for j in range(npoints):\n",
      "                k = npoints - j\n",
      "                index = np.where( (zoro[n] >= linspace1[i]) & (zoro[n] < linspace1[i+1]) & (zoro[m] <= linspace2[k]) & (zoro[m] > linspace2[k-1]) )\n",
      "                matrix[i][j] = len(index[0])\n",
      "                \n",
      "        # grafica y guarda\n",
      "        fig1 = plt.figure()\n",
      "        ax1 = plt.axes()\n",
      "        ax1.set_title(names[m] + \" vs \" + names[n])\n",
      "        plt.imshow(matrix, extent=(min1,max1,min2,max2), aspect='auto')\n",
      "        filename = names[m] + \" vs \" + names[n]\n",
      "        plt.savefig(filename + '.pdf',format = 'pdf', transparent=True)\n",
      "        plt.close()"
     ],
     "language": "python",
     "metadata": {},
     "outputs": [],
     "prompt_number": 32
    },
    {
     "cell_type": "code",
     "collapsed": false,
     "input": [
      "os.system('play --no-show-progress --null --channels 1 synth %s sine %f' % ( 2, 880.0))"
     ],
     "language": "python",
     "metadata": {},
     "outputs": [
      {
       "output_type": "pyout",
       "prompt_number": 33,
       "text": [
        "0"
       ]
      },
      {
       "output_type": "pyout",
       "prompt_number": 34,
       "text": [
        "0"
       ]
      }
     ],
     "prompt_number": 34
    },
    {
     "cell_type": "code",
     "collapsed": false,
     "input": [
      "\n",
      "\n",
      "#imshow(matrix)"
     ],
     "language": "python",
     "metadata": {},
     "outputs": [],
     "prompt_number": 31
    },
    {
     "cell_type": "code",
     "collapsed": false,
     "input": [],
     "language": "python",
     "metadata": {},
     "outputs": []
    }
   ],
   "metadata": {}
  }
 ]
}