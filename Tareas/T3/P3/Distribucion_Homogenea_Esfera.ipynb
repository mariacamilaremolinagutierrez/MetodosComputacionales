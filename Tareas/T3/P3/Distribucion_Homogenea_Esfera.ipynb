{
 "metadata": {
  "name": "",
  "signature": "sha256:a0dc4f2b8f035cafd585e494dfcd706bdff624ccfe6cc96e48577ac27e63499d"
 },
 "nbformat": 3,
 "nbformat_minor": 0,
 "worksheets": [
  {
   "cells": [
    {
     "cell_type": "code",
     "collapsed": false,
     "input": [
      "%pylab\n",
      "from mpl_toolkits.mplot3d import Axes3D"
     ],
     "language": "python",
     "metadata": {},
     "outputs": [
      {
       "output_type": "stream",
       "stream": "stdout",
       "text": [
        "Using matplotlib backend: TkAgg\n",
        "Populating the interactive namespace from numpy and matplotlib\n"
       ]
      }
     ],
     "prompt_number": 1
    },
    {
     "cell_type": "code",
     "collapsed": false,
     "input": [
      "n=10000\n",
      "R=100\n",
      "pasos=ones(n)\n",
      "xs=ones(n)\n",
      "ys=ones(n)\n",
      "zs=ones(n)"
     ],
     "language": "python",
     "metadata": {},
     "outputs": [],
     "prompt_number": 13
    },
    {
     "cell_type": "code",
     "collapsed": false,
     "input": [
      "num=0\n",
      "for i in range(n):\n",
      "    x=(0.5-random.random())*2*R\n",
      "    y=(0.5-random.random())*2*R\n",
      "    z=(0.5-random.random())*2*R\n",
      "    if(sqrt(x**2+y**2+z**2)<=R):\n",
      "        xs[num]=x\n",
      "        ys[num]=y\n",
      "        zs[num]=z\n",
      "        num+=1\n",
      "    else:\n",
      "        n+=1"
     ],
     "language": "python",
     "metadata": {},
     "outputs": [],
     "prompt_number": 14
    },
    {
     "cell_type": "code",
     "collapsed": false,
     "input": [
      "fig=figure()\n",
      "ax=fig.add_subplot(111, projection='3d')\n",
      "ax.set_xlabel('x ayis')\n",
      "ax.set_ylabel('y ayis')\n",
      "ax.set_zlabel('z ayis')\n",
      "\n",
      "ax.scatter(xs,ys,zs,c='r', marker='o')\n",
      "\n",
      "show()"
     ],
     "language": "python",
     "metadata": {},
     "outputs": [],
     "prompt_number": 15
    },
    {
     "cell_type": "code",
     "collapsed": false,
     "input": [],
     "language": "python",
     "metadata": {},
     "outputs": []
    }
   ],
   "metadata": {}
  }
 ]
}