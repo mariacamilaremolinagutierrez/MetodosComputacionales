{
 "metadata": {
  "name": "",
  "signature": "sha256:b75f11cbb6aed80449e7215028fe8104cb3976886caa373a678ae82b5762e428"
 },
 "nbformat": 3,
 "nbformat_minor": 0,
 "worksheets": [
  {
   "cells": [
    {
     "cell_type": "code",
     "collapsed": false,
     "input": [
      "%pylab inline"
     ],
     "language": "python",
     "metadata": {},
     "outputs": [
      {
       "output_type": "stream",
       "stream": "stdout",
       "text": [
        "Populating the interactive namespace from numpy and matplotlib\n"
       ]
      }
     ],
     "prompt_number": 5
    },
    {
     "cell_type": "code",
     "collapsed": false,
     "input": [
      "puntos = loadtxt('./data.dat')\n",
      "num_parejas=len(puntos)\n",
      "print puntos"
     ],
     "language": "python",
     "metadata": {},
     "outputs": [
      {
       "output_type": "stream",
       "stream": "stdout",
       "text": [
        "[[  1.30728392  11.21391315]\n",
        " [ -0.27155639  11.54247028]\n",
        " [ -0.42386486  13.21317045]\n",
        " [  1.28722983  10.48764629]\n",
        " [ -0.53338259  10.04564085]\n",
        " [ -0.12585717  10.76452804]\n",
        " [  0.06736538  10.65611664]\n",
        " [ -0.39079316   8.10818124]\n",
        " [ -0.26153533  13.19127086]\n",
        " [  0.72687173  12.05783933]\n",
        " [ 10.14571555   1.18425234]\n",
        " [  9.21400569   0.32863743]\n",
        " [  8.68396009   2.73302796]\n",
        " [  9.77689368   0.21671706]\n",
        " [ 10.07836241   3.10693573]\n",
        " [ 10.86448153   0.5244432 ]\n",
        " [  8.84931024   0.96105481]\n",
        " [ 10.08831983   1.87448027]\n",
        " [  8.02780382   1.32943945]\n",
        " [  9.58663322   1.25171099]]\n"
       ]
      }
     ],
     "prompt_number": 6
    },
    {
     "cell_type": "code",
     "collapsed": false,
     "input": [
      "scatter(puntos[:,0],puntos[:,1])"
     ],
     "language": "python",
     "metadata": {},
     "outputs": [
      {
       "metadata": {},
       "output_type": "pyout",
       "prompt_number": 7,
       "text": [
        "<matplotlib.collections.PathCollection at 0x44f7ad0>"
       ]
      },
      {
       "metadata": {},
       "output_type": "display_data",
       "png": "[encoded data removed]",
       "text": [
        "<matplotlib.figure.Figure at 0x444d910>"
       ]
      }
     ],
     "prompt_number": 7
    },
    {
     "cell_type": "code",
     "collapsed": false,
     "input": [
      "#Creo los centros\n",
      "\n",
      "centro1=ones(2)*random.random()*12\n",
      "centro2=ones(2)*random.random()*12\n",
      "\n",
      "print centro1, centro2\n",
      "\n",
      "while(centro2[0]==centro1[0] and centro2[1]==centro1[1]):\n",
      "    centro2=random.random()\n",
      "    \n",
      "scatter(puntos[:,0],puntos[:,1])\n",
      "scatter(centro1[0],centro1[1], color='red')    \n",
      "scatter(centro2[0],centro2[1], color='red')"
     ],
     "language": "python",
     "metadata": {},
     "outputs": [
      {
       "output_type": "stream",
       "stream": "stdout",
       "text": [
        "[ 9.86882505  9.86882505] [ 1.70705464  1.70705464]\n"
       ]
      },
      {
       "metadata": {},
       "output_type": "pyout",
       "prompt_number": 9,
       "text": [
        "<matplotlib.collections.PathCollection at 0x486fad0>"
       ]
      },
      {
       "metadata": {},
       "output_type": "display_data",
       "png": "[encoded data removed]",
       "text": [
        "<matplotlib.figure.Figure at 0x481e590>"
       ]
      }
     ],
     "prompt_number": 9
    },
    {
     "cell_type": "code",
     "collapsed": false,
     "input": [
      "puntos1=(ones(num_parejas),ones(num_parejas))\n",
      "puntos2=(ones(num_parejas),ones(num_parejas))\n",
      "n1=0\n",
      "n2=0\n",
      "\n",
      "for i in range(num_parejas):\n",
      "    pareja=puntos[i]\n",
      "    distancia1=sqrt((centro1[0]-pareja[0])**2+(centro1[1]-pareja[1])**2)\n",
      "    distancia2=sqrt((centro2[0]-pareja[0])**2+(centro2[1]-pareja[1])**2)\n",
      "    if(distancia1<distancia2):\n",
      "        xs=puntos1[0]\n",
      "        ys=puntos1[1]\n",
      "        xs[n1]=puntos[i][0]\n",
      "        ys[n1]=puntos[i][1]\n",
      "        n1+=1\n",
      "    else:\n",
      "        xs=puntos2[0]\n",
      "        ys=puntos2[1]\n",
      "        xs[n2]=puntos[i][0]\n",
      "        ys[n2]=puntos[i][1]\n",
      "        n2+=1\n",
      "\n",
      "disx1=0\n",
      "disy1=0\n",
      "num=0\n",
      "for i in range(num_parejas):\n",
      "    xs=puntos1[0]\n",
      "    ys=puntos1[1]\n",
      "    xsi=xs[i]\n",
      "    ysi=ys[i]\n",
      "    if(xsi==1 and ysi==1):\n",
      "        break\n",
      "    disx1+=xsi\n",
      "    disy1+=ysi\n",
      "    num+=1\n",
      "    \n",
      "centro1[0]=disx1/num\n",
      "centro1[1]=disy1/num\n",
      "\n",
      "disx2=0\n",
      "disy2=0\n",
      "num=0\n",
      "for i in range(num_parejas):\n",
      "    xs=puntos2[0]\n",
      "    ys=puntos2[1]\n",
      "    xsi=xs[i]\n",
      "    ysi=ys[i]\n",
      "    if(xsi==1 and ysi==1):\n",
      "        break\n",
      "    disx2+=xsi\n",
      "    disy2+=ysi\n",
      "    num+=1\n",
      "    \n",
      "centro2[0]=disx2/num\n",
      "centro2[1]=disy2/num\n",
      "\n",
      "#Plot con nuevos centros\n",
      "scatter(puntos[:,0],puntos[:,1])\n",
      "scatter(centro1[0],centro1[1], color='red')    \n",
      "scatter(centro2[0],centro2[1], color='red')"
     ],
     "language": "python",
     "metadata": {},
     "outputs": [
      {
       "metadata": {},
       "output_type": "pyout",
       "prompt_number": 16,
       "text": [
        "<matplotlib.collections.PathCollection at 0x4c21650>"
       ]
      },
      {
       "metadata": {},
       "output_type": "display_data",
       "png": "[encoded data removed]",
       "text": [
        "<matplotlib.figure.Figure at 0x4c46450>"
       ]
      }
     ],
     "prompt_number": 16
    },
    {
     "cell_type": "heading",
     "level": 3,
     "metadata": {},
     "source": []
    },
    {
     "cell_type": "code",
     "collapsed": false,
     "input": [],
     "language": "python",
     "metadata": {},
     "outputs": [],
     "prompt_number": 24
    },
    {
     "cell_type": "code",
     "collapsed": false,
     "input": [],
     "language": "python",
     "metadata": {},
     "outputs": []
    }
   ],
   "metadata": {}
  }
 ]
}