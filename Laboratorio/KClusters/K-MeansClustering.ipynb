{
 "metadata": {
  "name": "",
  "signature": "sha256:6a026231256e661b65cb61caa854c8c08982ce37575c86f94c6cc718114a91b5"
 },
 "nbformat": 3,
 "nbformat_minor": 0,
 "worksheets": [
  {
   "cells": [
    {
     "cell_type": "code",
     "collapsed": false,
     "input": [
      "%pylab inline"
     ],
     "language": "python",
     "metadata": {},
     "outputs": [
      {
       "output_type": "stream",
       "stream": "stdout",
       "text": [
        "Populating the interactive namespace from numpy and matplotlib\n"
       ]
      }
     ],
     "prompt_number": 25
    },
    {
     "cell_type": "code",
     "collapsed": false,
     "input": [
      "puntos = loadtxt('./data.dat')\n",
      "num_parejas=len(puntos)\n",
      "scatter(puntos[:,0],puntos[:,1])"
     ],
     "language": "python",
     "metadata": {},
     "outputs": [
      {
       "metadata": {},
       "output_type": "pyout",
       "prompt_number": 57,
       "text": [
        "<matplotlib.collections.PathCollection at 0x7af5550>"
       ]
      },
      {
       "metadata": {},
       "output_type": "display_data",
       "png": "[encoded data removed]",
       "text": [
        "<matplotlib.figure.Figure at 0x6c48f10>"
       ]
      }
     ],
     "prompt_number": 57
    },
    {
     "cell_type": "code",
     "collapsed": false,
     "input": [
      "def nuevosCentros(c1,c2):\n",
      "    \n",
      "    puntos1=(ones(num_parejas),ones(num_parejas))\n",
      "    puntos2=(ones(num_parejas),ones(num_parejas))\n",
      "    n1=0\n",
      "    n2=0\n",
      "    \n",
      "    for i in range(num_parejas):\n",
      "        pareja=puntos[i]\n",
      "        distancia1=sqrt((c1[0]-pareja[0])**2+(c1[1]-pareja[1])**2)\n",
      "        distancia2=sqrt((c2[0]-pareja[0])**2+(c2[1]-pareja[1])**2)\n",
      "        if(distancia1<distancia2):\n",
      "            xs=puntos1[0]\n",
      "            ys=puntos1[1]\n",
      "            xs[n1]=puntos[i][0]\n",
      "            ys[n1]=puntos[i][1]\n",
      "            n1+=1\n",
      "        else:\n",
      "            xs=puntos2[0]\n",
      "            ys=puntos2[1]\n",
      "            xs[n2]=puntos[i][0]\n",
      "            ys[n2]=puntos[i][1]\n",
      "            n2+=1\n",
      "        \n",
      "    disx1=0\n",
      "    disy1=0\n",
      "    num=0\n",
      "    for i in range(num_parejas):\n",
      "        xs=puntos1[0]\n",
      "        ys=puntos1[1]\n",
      "        xsi=xs[i]\n",
      "        ysi=ys[i]\n",
      "        if(xsi==1 and ysi==1):\n",
      "            break\n",
      "        disx1+=xsi\n",
      "        disy1+=ysi\n",
      "        num+=1\n",
      "\n",
      "    if(num!=0):\n",
      "        c1[0]=disx1/num\n",
      "        c1[1]=disy1/num\n",
      "\n",
      "    disx2=0\n",
      "    disy2=0\n",
      "    num=0\n",
      "    for i in range(num_parejas):\n",
      "        xs=puntos2[0]\n",
      "        ys=puntos2[1]\n",
      "        xsi=xs[i]\n",
      "        ysi=ys[i]\n",
      "        if(xsi==1 and ysi==1):\n",
      "            break\n",
      "        disx2+=xsi\n",
      "        disy2+=ysi\n",
      "        num+=1\n",
      "    \n",
      "    if(num!=0):\n",
      "        c2[0]=disx2/num\n",
      "        c2[1]=disy2/num\n",
      "    \n",
      "    return c1, c2"
     ],
     "language": "python",
     "metadata": {},
     "outputs": [],
     "prompt_number": 58
    },
    {
     "cell_type": "code",
     "collapsed": false,
     "input": [
      "#Creo los centros aleatorios\n",
      "\n",
      "centro1=[random.random()*12,random.random()*12]\n",
      "centro2=[random.random()*12,random.random()*12]\n",
      "\n",
      "while(centro2[0]==centro1[0] and centro2[1]==centro1[1]):\n",
      "    centro2=random.random()\n",
      "    \n",
      "scatter(puntos[:,0],puntos[:,1])\n",
      "scatter(centro1[0],centro1[1], color='red')    \n",
      "scatter(centro2[0],centro2[1], color='red')"
     ],
     "language": "python",
     "metadata": {},
     "outputs": [
      {
       "metadata": {},
       "output_type": "pyout",
       "prompt_number": 59,
       "text": [
        "<matplotlib.collections.PathCollection at 0x7cd4c90>"
       ]
      },
      {
       "metadata": {},
       "output_type": "display_data",
       "png": "[encoded data removed]",
       "text": [
        "<matplotlib.figure.Figure at 0x7adf790>"
       ]
      }
     ],
     "prompt_number": 59
    },
    {
     "cell_type": "code",
     "collapsed": false,
     "input": [
      "nCentro1=[0,0]\n",
      "nCentro2=[0,0]\n",
      "\n",
      "while (nCentro1[0]!=centro1[0] and nCentro1[1]!=centro1[1] and nCentro2[0]!=centro2[0] and nCentro2[1]!=centro2[1]):\n",
      "    centro1, centro2 = nuevosCentros(centro1, centro2)\n",
      "    nCentro1, nCentro2 = nuevosCentros(centro1, centro2)\n",
      "\n",
      "print \"A continuaci\u00f3n esta la grafica con los nuevos centros:\"    \n",
      "\n",
      "#Plot con nuevos centros\n",
      "scatter(puntos[:,0],puntos[:,1])\n",
      "scatter(centro1[0],centro1[1], color='red')    \n",
      "scatter(centro2[0],centro2[1], color='red')"
     ],
     "language": "python",
     "metadata": {},
     "outputs": [
      {
       "output_type": "stream",
       "stream": "stdout",
       "text": [
        "A continuaci\u00f3n esta la grafica con los nuevos centros:\n"
       ]
      },
      {
       "metadata": {},
       "output_type": "pyout",
       "prompt_number": 61,
       "text": [
        "<matplotlib.collections.PathCollection at 0x8280f50>"
       ]
      },
      {
       "metadata": {},
       "output_type": "display_data",
       "png": "[encoded data removed]",
       "text": [
        "<matplotlib.figure.Figure at 0x7ee0f90>"
       ]
      }
     ],
     "prompt_number": 61
    },
    {
     "cell_type": "code",
     "collapsed": false,
     "input": [],
     "language": "python",
     "metadata": {},
     "outputs": []
    }
   ],
   "metadata": {}
  }
 ]
}