{
 "metadata": {
  "name": "",
  "signature": "sha256:42109b6cd3d5eb99ca03428524c596225dde908ea1de9dd12bf63a967431f6b4"
 },
 "nbformat": 3,
 "nbformat_minor": 0,
 "worksheets": [
  {
   "cells": [
    {
     "cell_type": "code",
     "collapsed": false,
     "input": [
      "%pylab inline"
     ],
     "language": "python",
     "metadata": {},
     "outputs": [
      {
       "output_type": "stream",
       "stream": "stdout",
       "text": [
        "Populating the interactive namespace from numpy and matplotlib\n"
       ]
      }
     ],
     "prompt_number": 1
    },
    {
     "cell_type": "code",
     "collapsed": false,
     "input": [
      "puntos = loadtxt('./data.dat')\n",
      "num_parejas=len(puntos)\n",
      "print puntos"
     ],
     "language": "python",
     "metadata": {},
     "outputs": [
      {
       "output_type": "stream",
       "stream": "stdout",
       "text": [
        "[[  1.30728392  11.21391315]\n",
        " [ -0.27155639  11.54247028]\n",
        " [ -0.42386486  13.21317045]\n",
        " [  1.28722983  10.48764629]\n",
        " [ -0.53338259  10.04564085]\n",
        " [ -0.12585717  10.76452804]\n",
        " [  0.06736538  10.65611664]\n",
        " [ -0.39079316   8.10818124]\n",
        " [ -0.26153533  13.19127086]\n",
        " [  0.72687173  12.05783933]\n",
        " [ 10.14571555   1.18425234]\n",
        " [  9.21400569   0.32863743]\n",
        " [  8.68396009   2.73302796]\n",
        " [  9.77689368   0.21671706]\n",
        " [ 10.07836241   3.10693573]\n",
        " [ 10.86448153   0.5244432 ]\n",
        " [  8.84931024   0.96105481]\n",
        " [ 10.08831983   1.87448027]\n",
        " [  8.02780382   1.32943945]\n",
        " [  9.58663322   1.25171099]]\n",
        "20\n"
       ]
      }
     ],
     "prompt_number": 25
    },
    {
     "cell_type": "code",
     "collapsed": false,
     "input": [
      "scatter(puntos[:,0],puntos[:,1])"
     ],
     "language": "python",
     "metadata": {},
     "outputs": [
      {
       "metadata": {},
       "output_type": "pyout",
       "prompt_number": 16,
       "text": [
        "<matplotlib.collections.PathCollection at 0x41aff50>"
       ]
      },
      {
       "metadata": {},
       "output_type": "display_data",
       "png": "[encoded data removed]",
       "text": [
        "<matplotlib.figure.Figure at 0x3e13090>"
       ]
      }
     ],
     "prompt_number": 16
    },
    {
     "cell_type": "code",
     "collapsed": false,
     "input": [
      "#Creo los centros\n",
      "\n",
      "centro1=ones(2)*random.random()*12\n",
      "centro2=ones(2)*random.random()*12\n",
      "\n",
      "print centro1, centro2\n",
      "\n",
      "while(centro2[0]==centro1[0] and centro2[1]==centro1[1]):\n",
      "    centro2=random.random()\n",
      "    \n",
      "scatter(puntos[:,0],puntos[:,1])\n",
      "scatter(centro1[0],centro1[1], color='red')    \n",
      "scatter(centro2[0],centro2[1], color='red')\n",
      "\n",
      "#FALTA: HACER QUE QUEDEN DEL ORDEN DE LOS DATOS DE LA GRAFICA"
     ],
     "language": "python",
     "metadata": {},
     "outputs": [
      {
       "output_type": "stream",
       "stream": "stdout",
       "text": [
        "[ 11.59668154  11.59668154] [ 4.68578536  4.68578536]\n"
       ]
      },
      {
       "metadata": {},
       "output_type": "pyout",
       "prompt_number": 22,
       "text": [
        "<matplotlib.collections.PathCollection at 0x43647d0>"
       ]
      },
      {
       "metadata": {},
       "output_type": "display_data",
       "png": "[encoded data removed]",
       "text": [
        "<matplotlib.figure.Figure at 0x41d4c50>"
       ]
      }
     ],
     "prompt_number": 22
    },
    {
     "cell_type": "code",
     "collapsed": false,
     "input": [
      "puntos1=(ones(num_parejas),ones(num_parejas))\n",
      "puntos2=(ones(num_parejas),ones(num_parejas))\n",
      "n1=0\n",
      "n2=0\n",
      "\n",
      "for i in range(num_parejas):\n",
      "    pareja=puntos[i]\n",
      "    distancia1=sqrt((centro1[0]-pareja[0])**2+(centro1[1]-pareja[1])**2)\n",
      "    distancia2=sqrt((centro2[0]-pareja[0])**2+(centro2[1]-pareja[1])**2)\n",
      "    if(distancia1<distancia2):\n",
      "        puntos1[n1]=puntos[i]\n",
      "        n1+=1\n",
      "    else:\n",
      "        puntos2[n2]=puntos[i]\n",
      "        n2+=1\n",
      "\n",
      "i=0\n",
      "disx1=0\n",
      "disy1=0\n",
      "while(puntos1[i]!=[1,1] and i!=num_parejas):\n",
      "    pareja=puntos1[i]\n",
      "    disx1+=pareja[0]\n",
      "    disy1+=pareja[1]\n",
      "    i+=1\n",
      "    \n",
      "centro1[0]=disx1/i\n",
      "centro1[1]=disy1/i\n",
      "\n",
      "j=0\n",
      "disx2=0\n",
      "disy2=0\n",
      "while(puntos2[j]!=[1,1] and j!=num_parejas):\n",
      "    pareja=puntos1[j]\n",
      "    disx2+=pareja[0]\n",
      "    disy2+=pareja[1]\n",
      "    j+=1\n",
      "    \n",
      "centro2[0]=disx2/j\n",
      "centro2[1]=disy2/j\n",
      "\n",
      "#Plot con nuevos centros\n",
      "scatter(puntos[:,0],puntos[:,1])\n",
      "scatter(centro1[0],centro1[1], color='red')    \n",
      "scatter(centro2[0],centro2[1], color='red')"
     ],
     "language": "python",
     "metadata": {},
     "outputs": [
      {
       "ename": "TypeError",
       "evalue": "'tuple' object does not support item assignment",
       "output_type": "pyerr",
       "traceback": [
        "\u001b[1;31m---------------------------------------------------------------------------\u001b[0m\n\u001b[1;31mTypeError\u001b[0m                                 Traceback (most recent call last)",
        "\u001b[1;32m<ipython-input-36-d485a253f202>\u001b[0m in \u001b[0;36m<module>\u001b[1;34m()\u001b[0m\n\u001b[0;32m     12\u001b[0m         \u001b[0mn1\u001b[0m\u001b[1;33m+=\u001b[0m\u001b[1;36m1\u001b[0m\u001b[1;33m\u001b[0m\u001b[0m\n\u001b[0;32m     13\u001b[0m     \u001b[1;32melse\u001b[0m\u001b[1;33m:\u001b[0m\u001b[1;33m\u001b[0m\u001b[0m\n\u001b[1;32m---> 14\u001b[1;33m         \u001b[0mpuntos2\u001b[0m\u001b[1;33m[\u001b[0m\u001b[0mn2\u001b[0m\u001b[1;33m]\u001b[0m\u001b[1;33m=\u001b[0m\u001b[0mpuntos\u001b[0m\u001b[1;33m[\u001b[0m\u001b[0mi\u001b[0m\u001b[1;33m]\u001b[0m\u001b[1;33m\u001b[0m\u001b[0m\n\u001b[0m\u001b[0;32m     15\u001b[0m         \u001b[0mn2\u001b[0m\u001b[1;33m+=\u001b[0m\u001b[1;36m1\u001b[0m\u001b[1;33m\u001b[0m\u001b[0m\n\u001b[0;32m     16\u001b[0m \u001b[1;33m\u001b[0m\u001b[0m\n",
        "\u001b[1;31mTypeError\u001b[0m: 'tuple' object does not support item assignment"
       ]
      }
     ],
     "prompt_number": 36
    },
    {
     "cell_type": "code",
     "collapsed": false,
     "input": [],
     "language": "python",
     "metadata": {},
     "outputs": [],
     "prompt_number": 24
    },
    {
     "cell_type": "code",
     "collapsed": false,
     "input": [],
     "language": "python",
     "metadata": {},
     "outputs": [],
     "prompt_number": 24
    },
    {
     "cell_type": "code",
     "collapsed": false,
     "input": [],
     "language": "python",
     "metadata": {},
     "outputs": []
    }
   ],
   "metadata": {}
  }
 ]
}