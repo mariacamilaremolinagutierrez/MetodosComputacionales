{
 "metadata": {
  "name": "",
  "signature": "sha256:4430fd9544290c822e97f84e039b41a2a0c83fa2b7fd3498c91b09b69fc88357"
 },
 "nbformat": 3,
 "nbformat_minor": 0,
 "worksheets": [
  {
   "cells": [
    {
     "cell_type": "code",
     "collapsed": false,
     "input": [
      "#Metodo Biseccion para Encontrar Ceros\n",
      "#Por: Maria Camila Remolina Gutierrez\n",
      "\n",
      "%pylab inline"
     ],
     "language": "python",
     "metadata": {},
     "outputs": [
      {
       "output_type": "stream",
       "stream": "stdout",
       "text": [
        "Populating the interactive namespace from numpy and matplotlib\n"
       ]
      }
     ],
     "prompt_number": 1
    },
    {
     "cell_type": "code",
     "collapsed": false,
     "input": [
      "#Datos:\n",
      "V_0=10\n",
      "n=0\n",
      "delta_E=1\n",
      "\n",
      "#Funciones:\n",
      "def f(E):\n",
      "    return sqrt(V_0-E)*tan(sqrt(V_0-E))-sqrt(E)\n",
      "\n",
      "def f_prime(E_ant, E_act, E_sig):\n",
      "    #Los valores deben estar igualmente espaciados\n",
      "    h = E_act-E_ant\n",
      "    return (E_sig - E_ant)/(2*h)"
     ],
     "language": "python",
     "metadata": {},
     "outputs": [],
     "prompt_number": 15
    },
    {
     "cell_type": "code",
     "collapsed": false,
     "input": [
      "indice_0=int(random.random()*100)\n",
      "valores_E=linspace(0,V_0,V_0*100+1)\n",
      "\n",
      "plot(valores_E,f(valores_E))\n",
      "axis([0,10,-10,10])"
     ],
     "language": "python",
     "metadata": {},
     "outputs": [
      {
       "metadata": {},
       "output_type": "pyout",
       "prompt_number": 21,
       "text": [
        "[0, 10, -10, 10]"
       ]
      },
      {
       "metadata": {},
       "output_type": "display_data",
       "png": "[encoded data removed]",
       "text": [
        "<matplotlib.figure.Figure at 0x3882410>"
       ]
      }
     ],
     "prompt_number": 21
    },
    {
     "cell_type": "code",
     "collapsed": false,
     "input": [
      "while (delta_E>0.01): \n",
      "    derivada=f_prime(valores_E[indice_0-1],valores_E[indice_0],valores_E[indice_0+1])\n",
      "    altura=f(valores_E[indice_0])\n",
      "    \n",
      "    base=altura/derivada\n",
      "    \n",
      "    if(base<E_0):\n",
      "        E_1=E_0-base\n",
      "    else:\n",
      "        E_1=base-E_0\n",
      "        \n",
      "    delta_E=abs(E_1-E_0)\n",
      "    n+=1\n",
      "    E_0=E_1\n",
      "    \n",
      "print \"El cero es: \",E_0, \" y el numero de iteraciones es: \",n"
     ],
     "language": "python",
     "metadata": {},
     "outputs": [
      {
       "ename": "KeyboardInterrupt",
       "evalue": "",
       "output_type": "pyerr",
       "traceback": [
        "\u001b[1;31m---------------------------------------------------------------------------\u001b[0m\n\u001b[1;31mKeyboardInterrupt\u001b[0m                         Traceback (most recent call last)",
        "\u001b[1;32m<ipython-input-23-ac6e7c1ec4d2>\u001b[0m in \u001b[0;36m<module>\u001b[1;34m()\u001b[0m\n\u001b[0;32m      1\u001b[0m \u001b[1;32mwhile\u001b[0m \u001b[1;33m(\u001b[0m\u001b[0mdelta_E\u001b[0m\u001b[1;33m>\u001b[0m\u001b[1;36m0.01\u001b[0m\u001b[1;33m)\u001b[0m\u001b[1;33m:\u001b[0m\u001b[1;33m\u001b[0m\u001b[0m\n\u001b[0;32m      2\u001b[0m     \u001b[0mderivada\u001b[0m\u001b[1;33m=\u001b[0m\u001b[0mf_prime\u001b[0m\u001b[1;33m(\u001b[0m\u001b[0mvalores_E\u001b[0m\u001b[1;33m[\u001b[0m\u001b[0mindice_0\u001b[0m\u001b[1;33m-\u001b[0m\u001b[1;36m1\u001b[0m\u001b[1;33m]\u001b[0m\u001b[1;33m,\u001b[0m\u001b[0mvalores_E\u001b[0m\u001b[1;33m[\u001b[0m\u001b[0mindice_0\u001b[0m\u001b[1;33m]\u001b[0m\u001b[1;33m,\u001b[0m\u001b[0mvalores_E\u001b[0m\u001b[1;33m[\u001b[0m\u001b[0mindice_0\u001b[0m\u001b[1;33m+\u001b[0m\u001b[1;36m1\u001b[0m\u001b[1;33m]\u001b[0m\u001b[1;33m)\u001b[0m\u001b[1;33m\u001b[0m\u001b[0m\n\u001b[1;32m----> 3\u001b[1;33m     \u001b[0maltura\u001b[0m\u001b[1;33m=\u001b[0m\u001b[0mf\u001b[0m\u001b[1;33m(\u001b[0m\u001b[0mvalores_E\u001b[0m\u001b[1;33m[\u001b[0m\u001b[0mindice_0\u001b[0m\u001b[1;33m]\u001b[0m\u001b[1;33m)\u001b[0m\u001b[1;33m\u001b[0m\u001b[0m\n\u001b[0m\u001b[0;32m      4\u001b[0m \u001b[1;33m\u001b[0m\u001b[0m\n\u001b[0;32m      5\u001b[0m     \u001b[0mbase\u001b[0m\u001b[1;33m=\u001b[0m\u001b[0maltura\u001b[0m\u001b[1;33m/\u001b[0m\u001b[0mderivada\u001b[0m\u001b[1;33m\u001b[0m\u001b[0m\n",
        "\u001b[1;32m<ipython-input-15-2b334c38722e>\u001b[0m in \u001b[0;36mf\u001b[1;34m(E)\u001b[0m\n\u001b[0;32m      6\u001b[0m \u001b[1;31m#Funciones:\u001b[0m\u001b[1;33m\u001b[0m\u001b[1;33m\u001b[0m\u001b[0m\n\u001b[0;32m      7\u001b[0m \u001b[1;32mdef\u001b[0m \u001b[0mf\u001b[0m\u001b[1;33m(\u001b[0m\u001b[0mE\u001b[0m\u001b[1;33m)\u001b[0m\u001b[1;33m:\u001b[0m\u001b[1;33m\u001b[0m\u001b[0m\n\u001b[1;32m----> 8\u001b[1;33m     \u001b[1;32mreturn\u001b[0m \u001b[0msqrt\u001b[0m\u001b[1;33m(\u001b[0m\u001b[0mV_0\u001b[0m\u001b[1;33m-\u001b[0m\u001b[0mE\u001b[0m\u001b[1;33m)\u001b[0m\u001b[1;33m*\u001b[0m\u001b[0mtan\u001b[0m\u001b[1;33m(\u001b[0m\u001b[0msqrt\u001b[0m\u001b[1;33m(\u001b[0m\u001b[0mV_0\u001b[0m\u001b[1;33m-\u001b[0m\u001b[0mE\u001b[0m\u001b[1;33m)\u001b[0m\u001b[1;33m)\u001b[0m\u001b[1;33m-\u001b[0m\u001b[0msqrt\u001b[0m\u001b[1;33m(\u001b[0m\u001b[0mE\u001b[0m\u001b[1;33m)\u001b[0m\u001b[1;33m\u001b[0m\u001b[0m\n\u001b[0m\u001b[0;32m      9\u001b[0m \u001b[1;33m\u001b[0m\u001b[0m\n\u001b[0;32m     10\u001b[0m \u001b[1;32mdef\u001b[0m \u001b[0mf_prime\u001b[0m\u001b[1;33m(\u001b[0m\u001b[0mE_ant\u001b[0m\u001b[1;33m,\u001b[0m \u001b[0mE_act\u001b[0m\u001b[1;33m,\u001b[0m \u001b[0mE_sig\u001b[0m\u001b[1;33m)\u001b[0m\u001b[1;33m:\u001b[0m\u001b[1;33m\u001b[0m\u001b[0m\n",
        "\u001b[1;31mKeyboardInterrupt\u001b[0m: "
       ]
      }
     ],
     "prompt_number": 23
    },
    {
     "cell_type": "code",
     "collapsed": false,
     "input": [],
     "language": "python",
     "metadata": {},
     "outputs": []
    }
   ],
   "metadata": {}
  }
 ]
}