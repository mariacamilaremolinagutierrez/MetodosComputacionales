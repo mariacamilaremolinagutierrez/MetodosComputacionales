{
 "metadata": {
  "name": "",
  "signature": "sha256:5dea68b055697a14074bdfe7be0d0837ba2eb414c2734575e3ed2fa78350ed6e"
 },
 "nbformat": 3,
 "nbformat_minor": 0,
 "worksheets": [
  {
   "cells": [
    {
     "cell_type": "code",
     "collapsed": false,
     "input": [
      "%pylab inline\n",
      "from subprocess import call"
     ],
     "language": "python",
     "metadata": {},
     "outputs": [
      {
       "output_type": "stream",
       "stream": "stdout",
       "text": [
        "Populating the interactive namespace from numpy and matplotlib\n"
       ]
      }
     ],
     "prompt_number": 1
    },
    {
     "cell_type": "code",
     "collapsed": false,
     "input": [
      "#La cantidad de puntos que voy a usar inicialmente\n",
      "num_puntos=10\n",
      "\n",
      "#Las veces que voy a iterar los num_puntos\n",
      "num_iteraciones=10"
     ],
     "language": "python",
     "metadata": {},
     "outputs": [],
     "prompt_number": 3
    },
    {
     "cell_type": "code",
     "collapsed": false,
     "input": [
      "#lo borro si existe\n",
      "!rm -f data.out\n",
      "\n",
      "#mi archivo data.out va a tener un formato de 1000 iteraciones con 10**2 puntos, 1000 iteraciones con 10**3 puntos, .....\n",
      "\n",
      "for i in range(2,7):\n",
      "    \n",
      "    for j in range(num_iteraciones):\n",
      "        command = \"./integral10D.x %d %d >> data.out\"%(num_puntos,j)\n",
      "        retcode = call(command,shell=True)  \n",
      "    \n",
      "    num_puntos=10**i"
     ],
     "language": "python",
     "metadata": {},
     "outputs": [],
     "prompt_number": 4
    },
    {
     "cell_type": "code",
     "collapsed": false,
     "input": [],
     "language": "python",
     "metadata": {},
     "outputs": []
    }
   ],
   "metadata": {}
  }
 ]
}