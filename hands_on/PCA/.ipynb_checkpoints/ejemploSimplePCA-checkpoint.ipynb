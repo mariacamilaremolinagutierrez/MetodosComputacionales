{
 "metadata": {
  "name": "",
  "signature": "sha256:5d2da4272a8cd01f44d37e5d947848417d6affe592c4bdf61a12433157842474"
 },
 "nbformat": 3,
 "nbformat_minor": 0,
 "worksheets": [
  {
   "cells": [
    {
     "cell_type": "code",
     "collapsed": false,
     "input": [
      "%pylab inline"
     ],
     "language": "python",
     "metadata": {},
     "outputs": [
      {
       "output_type": "stream",
       "stream": "stdout",
       "text": [
        "Populating the interactive namespace from numpy and matplotlib\n"
       ]
      }
     ],
     "prompt_number": 1
    },
    {
     "cell_type": "code",
     "collapsed": false,
     "input": [
      "#importo data como xs y ys\n",
      "xs=[2.5,0.5,2.2,1.9,3.1,2.3,2,1,1.5,1.1]\n",
      "ys=[2.4,0.7,2.9,2.2,3,2.7,1.6,1.1,1.6,0.9]\n",
      "datos=[xs,ys]\n",
      "M=10\n",
      "dim=2\n",
      "\n",
      "matriz = ones((dim,dim))"
     ],
     "language": "python",
     "metadata": {},
     "outputs": [],
     "prompt_number": 7
    },
    {
     "cell_type": "code",
     "collapsed": false,
     "input": [
      "def sigmaij(lasx,lasy):\n",
      "    s=0\n",
      "    for k in range(M):\n",
      "        s+=(lasx[k]-mean(lasx))*(lasy[k]-mean(lasy))/(M-1)\n",
      "    return s"
     ],
     "language": "python",
     "metadata": {},
     "outputs": [],
     "prompt_number": 11
    },
    {
     "cell_type": "code",
     "collapsed": false,
     "input": [
      "for i in range(dim):\n",
      "    for j in range(dim):\n",
      "        indice=(i,j)\n",
      "        matriz[indice]=sigmaij(datos[i],datos[j])"
     ],
     "language": "python",
     "metadata": {},
     "outputs": [],
     "prompt_number": 12
    },
    {
     "cell_type": "code",
     "collapsed": false,
     "input": [
      "w, v=linalg.eig(matriz)"
     ],
     "language": "python",
     "metadata": {},
     "outputs": [],
     "prompt_number": 25
    },
    {
     "cell_type": "code",
     "collapsed": false,
     "input": [
      "scatter(xs,ys)\n",
      "\n",
      "m1=v[(1,0)]/v[(0,0)]\n",
      "m2=v[(1,1)]/v[(0,1)]\n",
      "\n",
      "numenx=linspace(0,3.5,100)\n",
      "numeny=numenx\n",
      "quiver(v[0],v[1])"
     ],
     "language": "python",
     "metadata": {},
     "outputs": [
      {
       "metadata": {},
       "output_type": "pyout",
       "prompt_number": 26,
       "text": [
        "<matplotlib.quiver.Quiver at 0x38ffc10>"
       ]
      },
      {
       "metadata": {},
       "output_type": "display_data",
       "png": "[encoded data removed]",
       "text": [
        "<matplotlib.figure.Figure at 0x38ff910>"
       ]
      }
     ],
     "prompt_number": 26
    },
    {
     "cell_type": "code",
     "collapsed": false,
     "input": [],
     "language": "python",
     "metadata": {},
     "outputs": []
    }
   ],
   "metadata": {}
  }
 ]
}