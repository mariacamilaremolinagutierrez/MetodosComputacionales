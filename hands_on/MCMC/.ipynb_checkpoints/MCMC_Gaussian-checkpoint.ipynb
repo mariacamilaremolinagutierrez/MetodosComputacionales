{
 "metadata": {
  "name": "",
  "signature": "sha256:b583797dc425f92c6b70e9d4cb29132a0a215179fabdc424ab28b89527f5b075"
 },
 "nbformat": 3,
 "nbformat_minor": 0,
 "worksheets": [
  {
   "cells": [
    {
     "cell_type": "code",
     "collapsed": false,
     "input": [
      "%pylab inline"
     ],
     "language": "python",
     "metadata": {},
     "outputs": [
      {
       "output_type": "stream",
       "stream": "stdout",
       "text": [
        "Populating the interactive namespace from numpy and matplotlib\n"
       ]
      }
     ],
     "prompt_number": 2
    },
    {
     "cell_type": "code",
     "collapsed": false,
     "input": [
      "#Funciones\n",
      "\n",
      "def f(x):\n",
      "    return exp(-(x-30)**2/100)"
     ],
     "language": "python",
     "metadata": {},
     "outputs": [],
     "prompt_number": 3
    },
    {
     "cell_type": "code",
     "collapsed": false,
     "input": [
      "x_min=0\n",
      "x_max=60\n",
      "sigma=10\n",
      "num_iter = 200000 \n",
      "xs = linspace(x_min,x_max,1000)\n",
      "xs_camino = zeros(num_iter)\n",
      "\n",
      "plot(xs,f(xs), c='m')"
     ],
     "language": "python",
     "metadata": {},
     "outputs": [
      {
       "metadata": {},
       "output_type": "pyout",
       "prompt_number": 4,
       "text": [
        "[<matplotlib.lines.Line2D at 0x36db310>]"
       ]
      },
      {
       "metadata": {},
       "output_type": "display_data",
       "png": "[encoded data removed]",
       "text": [
        "<matplotlib.figure.Figure at 0x36d74d0>"
       ]
      }
     ],
     "prompt_number": 4
    },
    {
     "cell_type": "code",
     "collapsed": false,
     "input": [
      "#Ciclo\n",
      "\n",
      "x_actual=random.random()*(x_max-x_min)\n",
      "xs_camino[0] = x_actual\n",
      "\n",
      "for i in range(1,num_iter):\n",
      "    \n",
      "    x_prueba=random.normal(x_actual,sigma)\n",
      "    \n",
      "    alfa=f(x_prueba)/f(x_actual)\n",
      "    \n",
      "    if(alfa>=1):\n",
      "        x_actual=x_prueba\n",
      "    else:\n",
      "        beta = random.random()\n",
      "        if(alfa>=beta):\n",
      "            x_actual=x_prueba\n",
      "            \n",
      "    xs_camino[i] = x_actual"
     ],
     "language": "python",
     "metadata": {},
     "outputs": [],
     "prompt_number": 5
    },
    {
     "cell_type": "code",
     "collapsed": false,
     "input": [
      "print xs_camino"
     ],
     "language": "python",
     "metadata": {},
     "outputs": [
      {
       "output_type": "stream",
       "stream": "stdout",
       "text": [
        "[  30.85081555   30.85081555   35.21189952 ...,  161.85729961  161.85729961\n",
        "  161.85729961]\n"
       ]
      }
     ],
     "prompt_number": 6
    },
    {
     "cell_type": "code",
     "collapsed": false,
     "input": [
      "hist(xs_camino, bins=80)\n",
      "\n",
      "xlabel('x')\n",
      "ylabel('p(x)')"
     ],
     "language": "python",
     "metadata": {},
     "outputs": [
      {
       "metadata": {},
       "output_type": "pyout",
       "prompt_number": 11,
       "text": [
        "<matplotlib.text.Text at 0x428ac10>"
       ]
      },
      {
       "metadata": {},
       "output_type": "display_data",
       "png": "[encoded data removed]",
       "text": [
        "<matplotlib.figure.Figure at 0x3cf8250>"
       ]
      }
     ],
     "prompt_number": 11
    },
    {
     "cell_type": "code",
     "collapsed": false,
     "input": [],
     "language": "python",
     "metadata": {},
     "outputs": []
    }
   ],
   "metadata": {}
  }
 ]
}